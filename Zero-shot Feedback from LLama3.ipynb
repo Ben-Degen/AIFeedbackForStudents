{
 "cells": [
  {
   "cell_type": "markdown",
   "id": "751ea4a8-ae00-47c4-95dc-3f6eedde1761",
   "metadata": {},
   "source": [
    "# Zero-shot feedback from LLaMa3-8B-Instruct"
   ]
  },
  {
   "cell_type": "code",
   "execution_count": 1,
   "id": "83d74578-624f-41f0-99db-a8dab96fb8c0",
   "metadata": {},
   "outputs": [],
   "source": [
    "# load required libraries\n",
    "import torch\n",
    "from transformers import AutoTokenizer, AutoModelForCausalLM\n",
    "import psutil\n",
    "import os\n",
    "import random"
   ]
  },
  {
   "cell_type": "code",
   "execution_count": null,
   "id": "c33607be-c266-47f9-92dd-1752aea479c4",
   "metadata": {},
   "outputs": [],
   "source": [
    "# Check available memory\n",
    "memory = psutil.virtual_memory()\n",
    "available_memory_gb = memory.available / (1024 ** 3)  # Convert to GB\n",
    "print(f\"Available Memory: {available_memory_gb} GB\")"
   ]
  },
  {
   "cell_type": "code",
   "execution_count": 3,
   "id": "7a29d5de-eaaf-4e59-97e5-a077bb7082c4",
   "metadata": {},
   "outputs": [],
   "source": [
    "with open('.../huggingface_api_key.txt', 'r') as file: # load your api key\n",
    "    api_key = file.read().replace('\\n', '')"
   ]
  },
  {
   "cell_type": "code",
   "execution_count": null,
   "id": "67e805ca-34e9-4355-bf43-a8d7d1d205ec",
   "metadata": {},
   "outputs": [],
   "source": [
    "# set model id\n",
    "model_id = \"meta-llama/Meta-Llama-3-8B-Instruct\"\n",
    "\n",
    "# load pretrained tokenizer\n",
    "tokenizer = AutoTokenizer.from_pretrained(model_id,\n",
    "                                          token=api_key,\n",
    "                                          force_download=False)\n",
    "\n",
    "# set pad_token_id equal to the eos_token_id if not set\n",
    "if tokenizer.pad_token_id is None:\n",
    "    tokenizer.pad_token_id = tokenizer.eos_token_id\n",
    "\n",
    "# Set reasonable default for models without max length\n",
    "if tokenizer.model_max_length > 100_000:\n",
    "    tokenizer.model_max_length = 4096\n",
    "\n",
    "# load pretrained model\n",
    "model = AutoModelForCausalLM.from_pretrained(model_id,\n",
    "                                             torch_dtype=torch.float16,\n",
    "                                             device_map=\"auto\",\n",
    "                                             token=api_key,\n",
    "                                             force_download=False)\n",
    "\n"
   ]
  },
  {
   "cell_type": "markdown",
   "id": "2d436227-bab8-478b-ab15-b29f7b151c95",
   "metadata": {},
   "source": [
    "### Define helperfunctions to sample essays from the folder and receive feedback for them from LLaMa3"
   ]
  },
  {
   "cell_type": "code",
   "execution_count": 115,
   "id": "5aa2b762-5d99-46d7-ac39-13ee7ab33c62",
   "metadata": {},
   "outputs": [],
   "source": [
    "def get_llama3_feedback(sample_student_essay: bool = True,\n",
    "                        prompt: str = \"Phones and driving\",\n",
    "                        student_essay: str = os.listdir(\"student_essays/\")[0],\n",
    "                        ):\n",
    "    \"\"\"\n",
    "    Function to receive a feedback from llama3 on a given student essay.\n",
    "    Input: Defines whether to sample a random essay from the folder (sample_student_essay=True) or provide feedback for a specific essay from the folder (to bedefined in the student_essay argument when sample_student_essay=False)\n",
    "    Output: List containing student essay ID and trespective textfeedback from llama3.\n",
    "    \"\"\"\n",
    "    \n",
    "    valid_prompts = ['Phones and driving', 'Seeking multiple opinions', 'Summer projects']\n",
    "    prompt_id = {'Phones and driving': 'In1_', 'Summer projects': 'In3_', 'Seeking multiple opinions': 'In15_'}\n",
    "    system_prompts = {\"Phones and driving\": \"You are a teacher who evaluatesstudent essays on the following argumentative writing task: 'Today the majority of humans own and operate cell phones on a daily basis. In essay form, explain if drivers should or should not be able to use cell phones in any capacity while operating a vehicle.' Provide the student with helpful feedback on his or her essay.\",\n",
    "                      \"Summer projects\": \"You are a teacher who evaluatesstudent essays on the following argumentative writing task: 'Some schools require students to complete summer projects to assure they continue learning during their break. Should these summer projects be teacher-designed or student-designed? Take a position on this question. Support your response with reasons and specific examples.'. Provide the student with helpful feedback on his or her essay.\",\n",
    "                      \"Seeking multiple opinions\": \"You are a teacher who evaluatesstudent essays on the following argumentative writing task: 'When people ask for advice, they sometimes talk to more than one person. Explain why seeking multiple opinions can help someone make a better choice. Use specific details and examples in your response.'. Provide the student with helpful feedback on his or her essay.\"}\n",
    "\n",
    "    # check for valid prompt\n",
    "    if prompt not in valid_prompts:\n",
    "        raise InvalidPromptError(f\"Invalid prompt: '{prompt}'. Valid prompts are: {', '.join(valid_prompts)}\")    \n",
    "\n",
    "    # sample essay from folder\n",
    "    essay_id, student_essay = get_essay(sample_from_folder=sample_student_essay, prompt=prompt,file=student_essay)\n",
    "\n",
    "    # create input messages\n",
    "    messages = [ {\"role\": \"system\", \"content\": system_prompts[prompt]},\n",
    "                 {\"role\": \"user\", \"content\": student_essay},\n",
    "                ]\n",
    "    # tokenize input\n",
    "    input_ids = tokenizer.apply_chat_template(\n",
    "    messages,\n",
    "    add_generation_prompt=True,\n",
    "    return_tensors=\"pt\"\n",
    "    ).to(model.device)\n",
    "    \n",
    "    terminators = [\n",
    "        tokenizer.eos_token_id,\n",
    "        tokenizer.convert_tokens_to_ids(\"<|eot_id|>\")\n",
    "    ]\n",
    "    \n",
    "    # get answer from llama3\n",
    "    outputs = model.generate(\n",
    "        input_ids,\n",
    "        max_new_tokens=512,\n",
    "        eos_token_id=terminators,\n",
    "        pad_token_id=tokenizer.eos_token_id,\n",
    "        do_sample=True,\n",
    "        temperature=0.6,\n",
    "        top_p=0.9,\n",
    "    )\n",
    "    \n",
    "    response = outputs[0][input_ids.shape[-1]:]\n",
    "\n",
    "    return [essay_id, tokenizer.decode(response, skip_special_tokens=True)]"
   ]
  },
  {
   "cell_type": "code",
   "execution_count": 109,
   "id": "c3ec3437-6586-4092-86bd-36836f362c3e",
   "metadata": {},
   "outputs": [],
   "source": [
    "# Define InvalidPromptError\n",
    "class InvalidPromptError(Exception):\n",
    "    \"\"\"Custom exception for invalid prompts.\"\"\"\n",
    "    pass\n",
    "\n",
    "\n",
    "def get_essay(sample_from_folder: bool = True, dir_to_essays: str = \"student_essays/\", prompt: str = \"Phones and driving\", file: str = essays[0], ):\n",
    "    \"\"\"\n",
    "    Function which samples an essay from the given folder. \n",
    "    Available prompts are 'Phones and driving', 'Seeking multiple opinions' and 'Summer projects'.\n",
    "    If sample_from_folder is True, the function returns the essay given in the 'file' argument.\n",
    "    \"\"\"\n",
    "    essay_list = os.listdir(dir_to_essays)\n",
    "    valid_prompts = ['Phones and driving', 'Seeking multiple opinions', 'Summer projects']\n",
    "    prompt_id = {'Phones and driving': 'In1_', 'Summer projects': 'In3_', 'Seeking multiple opinions': 'In15_'}\n",
    "    \n",
    "    if prompt not in valid_prompts:\n",
    "        raise InvalidPromptError(f\"Invalid prompt: '{prompt}'. Valid prompts are: {', '.join(valid_prompts)}\")\n",
    "    \n",
    "    if sample_from_folder:\n",
    "        essay = random.choice([e for e in essay_list if prompt_id[prompt] in e])\n",
    "        with open(dir_to_essays + essay) as f:\n",
    "            essay1 = f.read()\n",
    "    else:\n",
    "        with open(dir_to_essays + file) as f:\n",
    "            essay1 = f.read()    \n",
    "    return [essay if sample_from_folder else file, essay1]\n"
   ]
  },
  {
   "cell_type": "markdown",
   "id": "b08fdf91-c825-4693-bd17-02537f7084fc",
   "metadata": {},
   "source": [
    "### Apply the functions"
   ]
  },
  {
   "cell_type": "code",
   "execution_count": 113,
   "id": "c11503a1-e984-4d04-b42e-5557c87839bd",
   "metadata": {},
   "outputs": [
    {
     "name": "stdout",
     "output_type": "stream",
     "text": [
      "Student essay ID: In3_AD3821286500.txt\n",
      "\n",
      "*Student essay:*\n",
      " Summer, as known throughout the whole world, is for relaxation. Now when it comes to students, summer is a school free zone, mentally and physically. Though some teachers believe it is a smart idea to give the students projects or summer reading so they wouldn't forget some of the school work and already have a review over the summer when they come back. That is always expected when schools start back, though not all the students that were assigned to do the assignments did them because they either didn't understand the task correctly or they just wanted to enjoy summer and not think about any school work. That causes both the students and the teachers to be irritated and dissapointed. However, that could be changed by just one small upgrade.\n",
      "\n",
      "For years, school systems and teachers have been assigning students lessons that they will either never use in the real life or lessons the students don't understand or don't want to learn because the topics don't interest them. Many studies have shown the peak of the students grades is when they are being taught about modern day conflicts or societies, or just topics that interest them. That shows the students want to learn about what relates to them or something they actually want to learn about. Also, some students want to actually earn their grade. As surprising as it is, students want to do their work, because they want to be happy when they get the \"A\" and say that they deserved it because they worked hard on the assignment. Though not all of them can do that because not all of them might understand the assignment. Here, is where the upgrading comes in handy.\n",
      "\n",
      "School systems need to find new ways of education and renew all of the \"traditional\" ways of teaching. The systems need to understand that these generations are becoming more complicated to teach because of all the new modern trends and technologies. It is becoming easier for the students to understand the lessons from their peers and not the teachers, because it is becoming more difficult each day for the teachers to connect with their students. That is usually either because of social distractions or lack of good communication between the teacher and their students. Though if the teachers and the systems started renovating and thinking about new ways such as: letting the students choose their own topics of what they want to do for summer projects. They can just start from the summer projects, start it off small and see how much of an effect that will make and if it comes out with a pretty positive effect then take action during the actual school months.\n",
      "\n",
      "Every student does not wish or even want to keep having bad grades in school. Especially because of minor things or because they think they are not smart enough to succeed like their peers. Taking effect in letting students choose what they want to do for their summr projects will make a huge imapct on how the students will learn when they go back to school. That will also affect how the school systems view students learning and will see that it's the best choice to start upgrading their teaching system to the more modern ways. Students will want to actually do their assingments because they will know what they are do it and actually understand it. They will even enjoy what they are doing because they know they will do good because they worked hard on what they are doing.                                          \n",
      "\n",
      "\n"
     ]
    }
   ],
   "source": [
    "# test functionality\n",
    "essay_id, student_essay = get_essay(sample_from_folder=False, prompt='Seeking multiple opinions')\n",
    "print(f\"Student essay ID: {essay_id}\\n\")\n",
    "print(f\"Student essay:\\n {student_essay}\\n\")"
   ]
  },
  {
   "cell_type": "code",
   "execution_count": 116,
   "id": "e1728f56-a62f-48fd-9f61-9ccbd359a0b6",
   "metadata": {},
   "outputs": [
    {
     "name": "stdout",
     "output_type": "stream",
     "text": [
      "Student essay ID: In1_0B2E6B68B571.txt\n",
      "\n",
      "Feedback for the student:\n",
      " Overall, your essay presents a clear and concise argument against drivers using cellphones while operating a vehicle. Here are some specific strengths and weaknesses to consider:\n",
      "\n",
      "Strengths:\n",
      "\n",
      "* You provide a clear thesis statement that sets the tone for the rest of the essay.\n",
      "* You use specific statistics from the National Safety Council to support your argument, which adds credibility to your claims.\n",
      "* You effectively explain how cellphone use can be a distraction and a habit for many people, which is a compelling point.\n",
      "* You acknowledge the importance of cellphones in modern life, which shows that you have considered multiple perspectives on the issue.\n",
      "\n",
      "Weaknesses:\n",
      "\n",
      "* Your essay could benefit from more development and elaboration on your points. For example, you mention that distraction is a huge part of car crashes, but you don't provide any additional information or examples to support this claim.\n",
      "* You could also provide more context about the laws that have been implemented in various states to prohibit texting while driving. This could help to strengthen your argument and show that your position is not just an individual opinion.\n",
      "* Some of your sentences could be more concise and clear. For example, the sentence \"Therefore, it doesn't come to a surprise or a shocked moment that gadgets such as cellphones, tablets, or any other technology devices are ambiguous\" is a bit wordy and could be rephrased for better clarity.\n",
      "* You could also consider providing some counterarguments to your position and addressing them in your essay. This would show that you have considered multiple perspectives on the issue and would help to strengthen your argument.\n",
      "\n",
      "Suggestions for improvement:\n",
      "\n",
      "* Consider adding more specific examples or anecdotes to support your claims. For example, you could describe a situation where a driver was involved in an accident due to distracted driving.\n",
      "* Provide more information about the laws that have been implemented in various states to prohibit texting while driving. This could help to strengthen your argument and show that your position is not just an individual opinion.\n",
      "* Consider rephrasing some of your sentences for better clarity and concision.\n",
      "* Think about providing some counterarguments to your position and addressing them in your essay. This would show that you have considered multiple perspectives on the issue and would help to strengthen your argument.\n",
      "\n",
      "Overall, your essay presents a clear and concise argument against drivers using cellphones while operating a vehicle. With some additional development and elaboration, you could strengthen your argument and make it even more compelling.\n",
      "\n"
     ]
    }
   ],
   "source": [
    "essay_id, feedback= get_llama3_feedback()\n",
    "print(f\"Student essay ID: {essay_id}\\n\")\n",
    "print(f\"Feedback for the student:\\n {feedback}\\n\")"
   ]
  }
 ],
 "metadata": {
  "kernelspec": {
   "display_name": "Python 3 (ipykernel)",
   "language": "python",
   "name": "python3"
  },
  "language_info": {
   "codemirror_mode": {
    "name": "ipython",
    "version": 3
   },
   "file_extension": ".py",
   "mimetype": "text/x-python",
   "name": "python",
   "nbconvert_exporter": "python",
   "pygments_lexer": "ipython3",
   "version": "3.10.14"
  }
 },
 "nbformat": 4,
 "nbformat_minor": 5
}
